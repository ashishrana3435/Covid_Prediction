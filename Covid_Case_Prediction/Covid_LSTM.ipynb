{
 "cells": [
  {
   "cell_type": "code",
   "execution_count": 1,
   "metadata": {},
   "outputs": [],
   "source": [
    "import pandas as pd\n",
    "import json\n",
    "import urllib.request as url\n",
    "import numpy as np\n",
    "from keras.models import Sequential\n",
    "from keras.layers import Dense, Dropout, LSTM\n",
    "import matplotlib.pyplot as plt\n",
    "from sklearn.preprocessing import MinMaxScaler"
   ]
  },
  {
   "cell_type": "code",
   "execution_count": 2,
   "metadata": {},
   "outputs": [],
   "source": [
    "url = url.urlopen('https://api.covid19india.org/states_daily.json')"
   ]
  },
  {
   "cell_type": "code",
   "execution_count": 3,
   "metadata": {},
   "outputs": [],
   "source": [
    "data = json.load(url)"
   ]
  },
  {
   "cell_type": "code",
   "execution_count": 4,
   "metadata": {},
   "outputs": [],
   "source": [
    "data = data['states_daily']"
   ]
  },
  {
   "cell_type": "code",
   "execution_count": 5,
   "metadata": {},
   "outputs": [],
   "source": [
    "df = pd.DataFrame(data)"
   ]
  },
  {
   "cell_type": "code",
   "execution_count": 6,
   "metadata": {},
   "outputs": [
    {
     "data": {
      "text/plain": [
       "(342, 41)"
      ]
     },
     "execution_count": 6,
     "metadata": {},
     "output_type": "execute_result"
    }
   ],
   "source": [
    "df.shape"
   ]
  },
  {
   "cell_type": "code",
   "execution_count": 7,
   "metadata": {},
   "outputs": [
    {
     "data": {
      "text/html": [
       "<div>\n",
       "<style scoped>\n",
       "    .dataframe tbody tr th:only-of-type {\n",
       "        vertical-align: middle;\n",
       "    }\n",
       "\n",
       "    .dataframe tbody tr th {\n",
       "        vertical-align: top;\n",
       "    }\n",
       "\n",
       "    .dataframe thead th {\n",
       "        text-align: right;\n",
       "    }\n",
       "</style>\n",
       "<table border=\"1\" class=\"dataframe\">\n",
       "  <thead>\n",
       "    <tr style=\"text-align: right;\">\n",
       "      <th></th>\n",
       "      <th>an</th>\n",
       "      <th>ap</th>\n",
       "      <th>ar</th>\n",
       "      <th>as</th>\n",
       "      <th>br</th>\n",
       "      <th>ch</th>\n",
       "      <th>ct</th>\n",
       "      <th>date</th>\n",
       "      <th>dd</th>\n",
       "      <th>dl</th>\n",
       "      <th>...</th>\n",
       "      <th>sk</th>\n",
       "      <th>status</th>\n",
       "      <th>tg</th>\n",
       "      <th>tn</th>\n",
       "      <th>tr</th>\n",
       "      <th>tt</th>\n",
       "      <th>un</th>\n",
       "      <th>up</th>\n",
       "      <th>ut</th>\n",
       "      <th>wb</th>\n",
       "    </tr>\n",
       "  </thead>\n",
       "  <tbody>\n",
       "    <tr>\n",
       "      <th>0</th>\n",
       "      <td>0</td>\n",
       "      <td>1</td>\n",
       "      <td>0</td>\n",
       "      <td>0</td>\n",
       "      <td>0</td>\n",
       "      <td>0</td>\n",
       "      <td>0</td>\n",
       "      <td>14-Mar-20</td>\n",
       "      <td>0</td>\n",
       "      <td>7</td>\n",
       "      <td>...</td>\n",
       "      <td>0</td>\n",
       "      <td>Confirmed</td>\n",
       "      <td>1</td>\n",
       "      <td>1</td>\n",
       "      <td>0</td>\n",
       "      <td>81</td>\n",
       "      <td>0</td>\n",
       "      <td>12</td>\n",
       "      <td>0</td>\n",
       "      <td>0</td>\n",
       "    </tr>\n",
       "    <tr>\n",
       "      <th>1</th>\n",
       "      <td>0</td>\n",
       "      <td>0</td>\n",
       "      <td>0</td>\n",
       "      <td>0</td>\n",
       "      <td>0</td>\n",
       "      <td>0</td>\n",
       "      <td>0</td>\n",
       "      <td>14-Mar-20</td>\n",
       "      <td>0</td>\n",
       "      <td>1</td>\n",
       "      <td>...</td>\n",
       "      <td>0</td>\n",
       "      <td>Recovered</td>\n",
       "      <td>0</td>\n",
       "      <td>0</td>\n",
       "      <td>0</td>\n",
       "      <td>9</td>\n",
       "      <td>0</td>\n",
       "      <td>4</td>\n",
       "      <td>0</td>\n",
       "      <td>0</td>\n",
       "    </tr>\n",
       "    <tr>\n",
       "      <th>2</th>\n",
       "      <td>0</td>\n",
       "      <td>0</td>\n",
       "      <td>0</td>\n",
       "      <td>0</td>\n",
       "      <td>0</td>\n",
       "      <td>0</td>\n",
       "      <td>0</td>\n",
       "      <td>14-Mar-20</td>\n",
       "      <td>0</td>\n",
       "      <td>1</td>\n",
       "      <td>...</td>\n",
       "      <td>0</td>\n",
       "      <td>Deceased</td>\n",
       "      <td>0</td>\n",
       "      <td>0</td>\n",
       "      <td>0</td>\n",
       "      <td>2</td>\n",
       "      <td>0</td>\n",
       "      <td>0</td>\n",
       "      <td>0</td>\n",
       "      <td>0</td>\n",
       "    </tr>\n",
       "    <tr>\n",
       "      <th>3</th>\n",
       "      <td>0</td>\n",
       "      <td>0</td>\n",
       "      <td>0</td>\n",
       "      <td>0</td>\n",
       "      <td>0</td>\n",
       "      <td>0</td>\n",
       "      <td>0</td>\n",
       "      <td>15-Mar-20</td>\n",
       "      <td>0</td>\n",
       "      <td>0</td>\n",
       "      <td>...</td>\n",
       "      <td>0</td>\n",
       "      <td>Confirmed</td>\n",
       "      <td>2</td>\n",
       "      <td>0</td>\n",
       "      <td>0</td>\n",
       "      <td>27</td>\n",
       "      <td>0</td>\n",
       "      <td>1</td>\n",
       "      <td>0</td>\n",
       "      <td>0</td>\n",
       "    </tr>\n",
       "    <tr>\n",
       "      <th>4</th>\n",
       "      <td>0</td>\n",
       "      <td>0</td>\n",
       "      <td>0</td>\n",
       "      <td>0</td>\n",
       "      <td>0</td>\n",
       "      <td>0</td>\n",
       "      <td>0</td>\n",
       "      <td>15-Mar-20</td>\n",
       "      <td>0</td>\n",
       "      <td>1</td>\n",
       "      <td>...</td>\n",
       "      <td>0</td>\n",
       "      <td>Recovered</td>\n",
       "      <td>1</td>\n",
       "      <td>0</td>\n",
       "      <td>0</td>\n",
       "      <td>4</td>\n",
       "      <td>0</td>\n",
       "      <td>0</td>\n",
       "      <td>0</td>\n",
       "      <td>0</td>\n",
       "    </tr>\n",
       "  </tbody>\n",
       "</table>\n",
       "<p>5 rows × 41 columns</p>\n",
       "</div>"
      ],
      "text/plain": [
       "  an ap ar as br ch ct       date dd dl  ... sk     status tg tn tr  tt un  \\\n",
       "0  0  1  0  0  0  0  0  14-Mar-20  0  7  ...  0  Confirmed  1  1  0  81  0   \n",
       "1  0  0  0  0  0  0  0  14-Mar-20  0  1  ...  0  Recovered  0  0  0   9  0   \n",
       "2  0  0  0  0  0  0  0  14-Mar-20  0  1  ...  0   Deceased  0  0  0   2  0   \n",
       "3  0  0  0  0  0  0  0  15-Mar-20  0  0  ...  0  Confirmed  2  0  0  27  0   \n",
       "4  0  0  0  0  0  0  0  15-Mar-20  0  1  ...  0  Recovered  1  0  0   4  0   \n",
       "\n",
       "   up ut wb  \n",
       "0  12  0  0  \n",
       "1   4  0  0  \n",
       "2   0  0  0  \n",
       "3   1  0  0  \n",
       "4   0  0  0  \n",
       "\n",
       "[5 rows x 41 columns]"
      ]
     },
     "execution_count": 7,
     "metadata": {},
     "output_type": "execute_result"
    }
   ],
   "source": [
    "df.head()"
   ]
  },
  {
   "cell_type": "code",
   "execution_count": 8,
   "metadata": {},
   "outputs": [],
   "source": [
    "df = df[df['status'] == 'Confirmed']"
   ]
  },
  {
   "cell_type": "code",
   "execution_count": 9,
   "metadata": {},
   "outputs": [
    {
     "data": {
      "text/html": [
       "<div>\n",
       "<style scoped>\n",
       "    .dataframe tbody tr th:only-of-type {\n",
       "        vertical-align: middle;\n",
       "    }\n",
       "\n",
       "    .dataframe tbody tr th {\n",
       "        vertical-align: top;\n",
       "    }\n",
       "\n",
       "    .dataframe thead th {\n",
       "        text-align: right;\n",
       "    }\n",
       "</style>\n",
       "<table border=\"1\" class=\"dataframe\">\n",
       "  <thead>\n",
       "    <tr style=\"text-align: right;\">\n",
       "      <th></th>\n",
       "      <th>an</th>\n",
       "      <th>ap</th>\n",
       "      <th>ar</th>\n",
       "      <th>as</th>\n",
       "      <th>br</th>\n",
       "      <th>ch</th>\n",
       "      <th>ct</th>\n",
       "      <th>date</th>\n",
       "      <th>dd</th>\n",
       "      <th>dl</th>\n",
       "      <th>...</th>\n",
       "      <th>sk</th>\n",
       "      <th>status</th>\n",
       "      <th>tg</th>\n",
       "      <th>tn</th>\n",
       "      <th>tr</th>\n",
       "      <th>tt</th>\n",
       "      <th>un</th>\n",
       "      <th>up</th>\n",
       "      <th>ut</th>\n",
       "      <th>wb</th>\n",
       "    </tr>\n",
       "  </thead>\n",
       "  <tbody>\n",
       "    <tr>\n",
       "      <th>0</th>\n",
       "      <td>0</td>\n",
       "      <td>1</td>\n",
       "      <td>0</td>\n",
       "      <td>0</td>\n",
       "      <td>0</td>\n",
       "      <td>0</td>\n",
       "      <td>0</td>\n",
       "      <td>14-Mar-20</td>\n",
       "      <td>0</td>\n",
       "      <td>7</td>\n",
       "      <td>...</td>\n",
       "      <td>0</td>\n",
       "      <td>Confirmed</td>\n",
       "      <td>1</td>\n",
       "      <td>1</td>\n",
       "      <td>0</td>\n",
       "      <td>81</td>\n",
       "      <td>0</td>\n",
       "      <td>12</td>\n",
       "      <td>0</td>\n",
       "      <td>0</td>\n",
       "    </tr>\n",
       "    <tr>\n",
       "      <th>3</th>\n",
       "      <td>0</td>\n",
       "      <td>0</td>\n",
       "      <td>0</td>\n",
       "      <td>0</td>\n",
       "      <td>0</td>\n",
       "      <td>0</td>\n",
       "      <td>0</td>\n",
       "      <td>15-Mar-20</td>\n",
       "      <td>0</td>\n",
       "      <td>0</td>\n",
       "      <td>...</td>\n",
       "      <td>0</td>\n",
       "      <td>Confirmed</td>\n",
       "      <td>2</td>\n",
       "      <td>0</td>\n",
       "      <td>0</td>\n",
       "      <td>27</td>\n",
       "      <td>0</td>\n",
       "      <td>1</td>\n",
       "      <td>0</td>\n",
       "      <td>0</td>\n",
       "    </tr>\n",
       "    <tr>\n",
       "      <th>6</th>\n",
       "      <td>0</td>\n",
       "      <td>0</td>\n",
       "      <td>0</td>\n",
       "      <td>0</td>\n",
       "      <td>0</td>\n",
       "      <td>0</td>\n",
       "      <td>0</td>\n",
       "      <td>16-Mar-20</td>\n",
       "      <td>0</td>\n",
       "      <td>0</td>\n",
       "      <td>...</td>\n",
       "      <td>0</td>\n",
       "      <td>Confirmed</td>\n",
       "      <td>1</td>\n",
       "      <td>0</td>\n",
       "      <td>0</td>\n",
       "      <td>15</td>\n",
       "      <td>0</td>\n",
       "      <td>0</td>\n",
       "      <td>1</td>\n",
       "      <td>0</td>\n",
       "    </tr>\n",
       "    <tr>\n",
       "      <th>9</th>\n",
       "      <td>0</td>\n",
       "      <td>0</td>\n",
       "      <td>0</td>\n",
       "      <td>0</td>\n",
       "      <td>0</td>\n",
       "      <td>0</td>\n",
       "      <td>0</td>\n",
       "      <td>17-Mar-20</td>\n",
       "      <td>0</td>\n",
       "      <td>1</td>\n",
       "      <td>...</td>\n",
       "      <td>0</td>\n",
       "      <td>Confirmed</td>\n",
       "      <td>1</td>\n",
       "      <td>0</td>\n",
       "      <td>0</td>\n",
       "      <td>11</td>\n",
       "      <td>0</td>\n",
       "      <td>2</td>\n",
       "      <td>0</td>\n",
       "      <td>1</td>\n",
       "    </tr>\n",
       "    <tr>\n",
       "      <th>12</th>\n",
       "      <td>0</td>\n",
       "      <td>0</td>\n",
       "      <td>0</td>\n",
       "      <td>0</td>\n",
       "      <td>0</td>\n",
       "      <td>0</td>\n",
       "      <td>0</td>\n",
       "      <td>18-Mar-20</td>\n",
       "      <td>0</td>\n",
       "      <td>2</td>\n",
       "      <td>...</td>\n",
       "      <td>0</td>\n",
       "      <td>Confirmed</td>\n",
       "      <td>8</td>\n",
       "      <td>1</td>\n",
       "      <td>0</td>\n",
       "      <td>37</td>\n",
       "      <td>0</td>\n",
       "      <td>2</td>\n",
       "      <td>1</td>\n",
       "      <td>0</td>\n",
       "    </tr>\n",
       "  </tbody>\n",
       "</table>\n",
       "<p>5 rows × 41 columns</p>\n",
       "</div>"
      ],
      "text/plain": [
       "   an ap ar as br ch ct       date dd dl  ... sk     status tg tn tr  tt un  \\\n",
       "0   0  1  0  0  0  0  0  14-Mar-20  0  7  ...  0  Confirmed  1  1  0  81  0   \n",
       "3   0  0  0  0  0  0  0  15-Mar-20  0  0  ...  0  Confirmed  2  0  0  27  0   \n",
       "6   0  0  0  0  0  0  0  16-Mar-20  0  0  ...  0  Confirmed  1  0  0  15  0   \n",
       "9   0  0  0  0  0  0  0  17-Mar-20  0  1  ...  0  Confirmed  1  0  0  11  0   \n",
       "12  0  0  0  0  0  0  0  18-Mar-20  0  2  ...  0  Confirmed  8  1  0  37  0   \n",
       "\n",
       "    up ut wb  \n",
       "0   12  0  0  \n",
       "3    1  0  0  \n",
       "6    0  1  0  \n",
       "9    2  0  1  \n",
       "12   2  1  0  \n",
       "\n",
       "[5 rows x 41 columns]"
      ]
     },
     "execution_count": 9,
     "metadata": {},
     "output_type": "execute_result"
    }
   ],
   "source": [
    "df.head()"
   ]
  },
  {
   "cell_type": "code",
   "execution_count": 10,
   "metadata": {},
   "outputs": [],
   "source": [
    "df.set_index('date', inplace=True)"
   ]
  },
  {
   "cell_type": "code",
   "execution_count": 11,
   "metadata": {},
   "outputs": [],
   "source": [
    "df = df.drop('status', axis=1)"
   ]
  },
  {
   "cell_type": "code",
   "execution_count": 12,
   "metadata": {},
   "outputs": [],
   "source": [
    "df = df.astype(np.int64)"
   ]
  },
  {
   "cell_type": "code",
   "execution_count": 13,
   "metadata": {},
   "outputs": [],
   "source": [
    "df['total'] = df.sum(axis=1)"
   ]
  },
  {
   "cell_type": "code",
   "execution_count": 16,
   "metadata": {},
   "outputs": [],
   "source": [
    "train_set = df.iloc[:,39:40].values"
   ]
  },
  {
   "cell_type": "code",
   "execution_count": 17,
   "metadata": {},
   "outputs": [
    {
     "name": "stderr",
     "output_type": "stream",
     "text": [
      "C:\\Users\\Gautam\\Anaconda3\\lib\\site-packages\\sklearn\\utils\\validation.py:595: DataConversionWarning: Data with input dtype int64 was converted to float64 by MinMaxScaler.\n",
      "  warnings.warn(msg, DataConversionWarning)\n"
     ]
    }
   ],
   "source": [
    "minmax = MinMaxScaler()\n",
    "scaled_train = minmax.fit_transform(train_set)"
   ]
  },
  {
   "cell_type": "code",
   "execution_count": 18,
   "metadata": {},
   "outputs": [],
   "source": [
    "X_train = []\n",
    "y_train = []"
   ]
  },
  {
   "cell_type": "code",
   "execution_count": 19,
   "metadata": {},
   "outputs": [],
   "source": [
    "for i in range(15, len(df)):\n",
    "    X_train.append(scaled_train[i-15:i, 0])\n",
    "    y_train.append(scaled_train[i, 0])"
   ]
  },
  {
   "cell_type": "code",
   "execution_count": 20,
   "metadata": {},
   "outputs": [
    {
     "data": {
      "text/plain": [
       "array([0.00291582, 0.00066647, 0.00016662, 0.        , 0.00108302,\n",
       "       0.00066647, 0.00195776, 0.00279085, 0.00233265, 0.00379056,\n",
       "       0.00220769, 0.00329071, 0.00224934, 0.00637314, 0.0054984 ])"
      ]
     },
     "execution_count": 20,
     "metadata": {},
     "output_type": "execute_result"
    }
   ],
   "source": [
    "X_train[0]"
   ]
  },
  {
   "cell_type": "code",
   "execution_count": 21,
   "metadata": {},
   "outputs": [
    {
     "data": {
      "text/plain": [
       "0.004123797225809139"
      ]
     },
     "execution_count": 21,
     "metadata": {},
     "output_type": "execute_result"
    }
   ],
   "source": [
    "y_train[0]"
   ]
  },
  {
   "cell_type": "code",
   "execution_count": 22,
   "metadata": {},
   "outputs": [],
   "source": [
    "X_train = np.asarray(X_train)\n",
    "y_train= np.asarray(y_train)"
   ]
  },
  {
   "cell_type": "code",
   "execution_count": 23,
   "metadata": {},
   "outputs": [],
   "source": [
    "X_train= np.reshape(X_train, (X_train.shape[0], X_train.shape[1], 1))"
   ]
  },
  {
   "cell_type": "code",
   "execution_count": 24,
   "metadata": {},
   "outputs": [],
   "source": [
    "from sklearn.model_selection import train_test_split\n",
    "train_x, test_x, train_y, test_y = train_test_split(X_train, y_train, test_size=0.2)"
   ]
  },
  {
   "cell_type": "code",
   "execution_count": 48,
   "metadata": {},
   "outputs": [],
   "source": [
    "model = Sequential()"
   ]
  },
  {
   "cell_type": "code",
   "execution_count": 49,
   "metadata": {},
   "outputs": [
    {
     "data": {
      "text/plain": [
       "15"
      ]
     },
     "execution_count": 49,
     "metadata": {},
     "output_type": "execute_result"
    }
   ],
   "source": [
    "train_x.shape[1]"
   ]
  },
  {
   "cell_type": "code",
   "execution_count": 50,
   "metadata": {},
   "outputs": [],
   "source": [
    "model.add(LSTM(units=100, return_sequences=True, input_shape=(train_x.shape[1],1)))\n",
    "model.add(Dropout(0.5))\n",
    "model.add(LSTM(units=50, return_sequences=True))\n",
    "model.add(Dropout(0.5))\n",
    "model.add(LSTM(units=50, return_sequences=True))\n",
    "model.add(Dropout(0.5))\n",
    "model.add(LSTM(units=50))\n",
    "model.add(Dropout(0.5))\n",
    "model.add(Dense(units=1))"
   ]
  },
  {
   "cell_type": "code",
   "execution_count": 51,
   "metadata": {},
   "outputs": [],
   "source": [
    "model.compile(optimizer='rmsprop', loss='mean_squared_error')"
   ]
  },
  {
   "cell_type": "code",
   "execution_count": 52,
   "metadata": {},
   "outputs": [
    {
     "name": "stdout",
     "output_type": "stream",
     "text": [
      "Epoch 1/100\n",
      "8/8 [==============================] - 0s 36ms/step - loss: 0.0533\n",
      "Epoch 2/100\n",
      "8/8 [==============================] - 0s 29ms/step - loss: 0.0131\n",
      "Epoch 3/100\n",
      "8/8 [==============================] - 0s 29ms/step - loss: 0.0272\n",
      "Epoch 4/100\n",
      "8/8 [==============================] - 0s 34ms/step - loss: 0.0157\n",
      "Epoch 5/100\n",
      "8/8 [==============================] - 0s 34ms/step - loss: 0.0149\n",
      "Epoch 6/100\n",
      "8/8 [==============================] - 0s 35ms/step - loss: 0.0164\n",
      "Epoch 7/100\n",
      "8/8 [==============================] - 0s 33ms/step - loss: 0.0105\n",
      "Epoch 8/100\n",
      "8/8 [==============================] - 0s 34ms/step - loss: 0.0074\n",
      "Epoch 9/100\n",
      "8/8 [==============================] - 0s 34ms/step - loss: 0.0131\n",
      "Epoch 10/100\n",
      "8/8 [==============================] - 0s 34ms/step - loss: 0.0096\n",
      "Epoch 11/100\n",
      "8/8 [==============================] - 0s 34ms/step - loss: 0.0095\n",
      "Epoch 12/100\n",
      "8/8 [==============================] - 0s 34ms/step - loss: 0.0148\n",
      "Epoch 13/100\n",
      "8/8 [==============================] - 0s 34ms/step - loss: 0.0151\n",
      "Epoch 14/100\n",
      "8/8 [==============================] - 0s 34ms/step - loss: 0.0135\n",
      "Epoch 15/100\n",
      "8/8 [==============================] - 0s 34ms/step - loss: 0.0093\n",
      "Epoch 16/100\n",
      "8/8 [==============================] - 0s 41ms/step - loss: 0.0181\n",
      "Epoch 17/100\n",
      "8/8 [==============================] - 0s 42ms/step - loss: 0.0092\n",
      "Epoch 18/100\n",
      "8/8 [==============================] - 0s 42ms/step - loss: 0.0111\n",
      "Epoch 19/100\n",
      "8/8 [==============================] - 0s 41ms/step - loss: 0.0122\n",
      "Epoch 20/100\n",
      "8/8 [==============================] - 0s 42ms/step - loss: 0.0048\n",
      "Epoch 21/100\n",
      "8/8 [==============================] - 0s 42ms/step - loss: 0.0214\n",
      "Epoch 22/100\n",
      "8/8 [==============================] - 0s 44ms/step - loss: 0.0085\n",
      "Epoch 23/100\n",
      "8/8 [==============================] - 0s 42ms/step - loss: 0.0150\n",
      "Epoch 24/100\n",
      "8/8 [==============================] - 0s 43ms/step - loss: 0.0054\n",
      "Epoch 25/100\n",
      "8/8 [==============================] - 0s 41ms/step - loss: 0.0163\n",
      "Epoch 26/100\n",
      "8/8 [==============================] - 0s 41ms/step - loss: 0.0072\n",
      "Epoch 27/100\n",
      "8/8 [==============================] - 0s 42ms/step - loss: 0.0121\n",
      "Epoch 28/100\n",
      "8/8 [==============================] - 0s 41ms/step - loss: 0.0111\n",
      "Epoch 29/100\n",
      "8/8 [==============================] - 0s 41ms/step - loss: 0.0076\n",
      "Epoch 30/100\n",
      "8/8 [==============================] - 0s 44ms/step - loss: 0.0093\n",
      "Epoch 31/100\n",
      "8/8 [==============================] - 0s 43ms/step - loss: 0.0061\n",
      "Epoch 32/100\n",
      "8/8 [==============================] - 0s 42ms/step - loss: 0.0147\n",
      "Epoch 33/100\n",
      "8/8 [==============================] - 0s 42ms/step - loss: 0.0065\n",
      "Epoch 34/100\n",
      "8/8 [==============================] - 0s 41ms/step - loss: 0.0081\n",
      "Epoch 35/100\n",
      "8/8 [==============================] - 0s 43ms/step - loss: 0.0075\n",
      "Epoch 36/100\n",
      "8/8 [==============================] - 0s 42ms/step - loss: 0.0076\n",
      "Epoch 37/100\n",
      "8/8 [==============================] - 0s 41ms/step - loss: 0.0061\n",
      "Epoch 38/100\n",
      "8/8 [==============================] - 0s 43ms/step - loss: 0.0105\n",
      "Epoch 39/100\n",
      "8/8 [==============================] - 0s 42ms/step - loss: 0.0129\n",
      "Epoch 40/100\n",
      "8/8 [==============================] - 0s 42ms/step - loss: 0.0069\n",
      "Epoch 41/100\n",
      "8/8 [==============================] - 0s 44ms/step - loss: 0.0064\n",
      "Epoch 42/100\n",
      "8/8 [==============================] - 0s 41ms/step - loss: 0.0099\n",
      "Epoch 43/100\n",
      "8/8 [==============================] - 0s 41ms/step - loss: 0.0071\n",
      "Epoch 44/100\n",
      "8/8 [==============================] - 0s 41ms/step - loss: 0.0101\n",
      "Epoch 45/100\n",
      "8/8 [==============================] - 0s 42ms/step - loss: 0.0082\n",
      "Epoch 46/100\n",
      "8/8 [==============================] - 0s 43ms/step - loss: 0.0088\n",
      "Epoch 47/100\n",
      "8/8 [==============================] - 0s 41ms/step - loss: 0.0078\n",
      "Epoch 48/100\n",
      "8/8 [==============================] - 0s 42ms/step - loss: 0.0061\n",
      "Epoch 49/100\n",
      "8/8 [==============================] - 0s 41ms/step - loss: 0.0089\n",
      "Epoch 50/100\n",
      "8/8 [==============================] - 0s 41ms/step - loss: 0.0109\n",
      "Epoch 51/100\n",
      "8/8 [==============================] - 0s 42ms/step - loss: 0.0102\n",
      "Epoch 52/100\n",
      "8/8 [==============================] - 0s 43ms/step - loss: 0.0081\n",
      "Epoch 53/100\n",
      "8/8 [==============================] - 0s 42ms/step - loss: 0.0081\n",
      "Epoch 54/100\n",
      "8/8 [==============================] - 0s 42ms/step - loss: 0.0090\n",
      "Epoch 55/100\n",
      "8/8 [==============================] - 0s 41ms/step - loss: 0.0063\n",
      "Epoch 56/100\n",
      "8/8 [==============================] - 0s 42ms/step - loss: 0.0069\n",
      "Epoch 57/100\n",
      "8/8 [==============================] - 0s 41ms/step - loss: 0.0085\n",
      "Epoch 58/100\n",
      "8/8 [==============================] - 0s 42ms/step - loss: 0.0061\n",
      "Epoch 59/100\n",
      "8/8 [==============================] - 0s 45ms/step - loss: 0.0059\n",
      "Epoch 60/100\n",
      "8/8 [==============================] - 0s 33ms/step - loss: 0.0067\n",
      "Epoch 61/100\n",
      "8/8 [==============================] - 0s 32ms/step - loss: 0.0080\n",
      "Epoch 62/100\n",
      "8/8 [==============================] - 0s 32ms/step - loss: 0.0057\n",
      "Epoch 63/100\n",
      "8/8 [==============================] - 0s 32ms/step - loss: 0.0064\n",
      "Epoch 64/100\n",
      "8/8 [==============================] - 0s 39ms/step - loss: 0.0084\n",
      "Epoch 65/100\n",
      "8/8 [==============================] - 0s 39ms/step - loss: 0.0040\n",
      "Epoch 66/100\n",
      "8/8 [==============================] - 0s 38ms/step - loss: 0.0118\n",
      "Epoch 67/100\n",
      "8/8 [==============================] - 0s 38ms/step - loss: 0.0061\n",
      "Epoch 68/100\n",
      "8/8 [==============================] - 0s 38ms/step - loss: 0.0056\n",
      "Epoch 69/100\n",
      "8/8 [==============================] - 0s 38ms/step - loss: 0.0076\n",
      "Epoch 70/100\n",
      "8/8 [==============================] - 0s 39ms/step - loss: 0.0069\n",
      "Epoch 71/100\n",
      "8/8 [==============================] - 0s 38ms/step - loss: 0.0100\n",
      "Epoch 72/100\n",
      "8/8 [==============================] - 0s 38ms/step - loss: 0.0068\n",
      "Epoch 73/100\n",
      "8/8 [==============================] - 0s 38ms/step - loss: 0.0079\n",
      "Epoch 74/100\n",
      "8/8 [==============================] - 0s 39ms/step - loss: 0.0110\n",
      "Epoch 75/100\n",
      "8/8 [==============================] - 0s 38ms/step - loss: 0.0047\n",
      "Epoch 76/100\n",
      "8/8 [==============================] - 0s 40ms/step - loss: 0.0065\n",
      "Epoch 77/100\n",
      "8/8 [==============================] - 0s 39ms/step - loss: 0.0051\n",
      "Epoch 78/100\n",
      "8/8 [==============================] - 0s 40ms/step - loss: 0.0067\n",
      "Epoch 79/100\n",
      "8/8 [==============================] - 0s 38ms/step - loss: 0.0078\n",
      "Epoch 80/100\n",
      "8/8 [==============================] - 0s 39ms/step - loss: 0.0065\n",
      "Epoch 81/100\n",
      "8/8 [==============================] - 0s 33ms/step - loss: 0.0060\n",
      "Epoch 82/100\n",
      "8/8 [==============================] - 0s 31ms/step - loss: 0.0072\n",
      "Epoch 83/100\n",
      "8/8 [==============================] - 0s 31ms/step - loss: 0.0082\n",
      "Epoch 84/100\n",
      "8/8 [==============================] - 0s 31ms/step - loss: 0.0076\n",
      "Epoch 85/100\n",
      "8/8 [==============================] - 0s 31ms/step - loss: 0.0085\n",
      "Epoch 86/100\n",
      "8/8 [==============================] - 0s 30ms/step - loss: 0.0065\n",
      "Epoch 87/100\n",
      "8/8 [==============================] - 0s 30ms/step - loss: 0.0062\n",
      "Epoch 88/100\n",
      "8/8 [==============================] - 0s 31ms/step - loss: 0.0073\n",
      "Epoch 89/100\n",
      "8/8 [==============================] - 0s 30ms/step - loss: 0.0042\n",
      "Epoch 90/100\n",
      "8/8 [==============================] - 0s 31ms/step - loss: 0.0062\n",
      "Epoch 91/100\n",
      "8/8 [==============================] - 0s 31ms/step - loss: 0.0093\n",
      "Epoch 92/100\n",
      "8/8 [==============================] - 0s 30ms/step - loss: 0.0065\n",
      "Epoch 93/100\n",
      "8/8 [==============================] - 0s 31ms/step - loss: 0.0094\n",
      "Epoch 94/100\n",
      "8/8 [==============================] - 0s 30ms/step - loss: 0.0079\n",
      "Epoch 95/100\n",
      "8/8 [==============================] - 0s 30ms/step - loss: 0.0049\n",
      "Epoch 96/100\n",
      "8/8 [==============================] - 0s 31ms/step - loss: 0.0070\n",
      "Epoch 97/100\n",
      "8/8 [==============================] - 0s 32ms/step - loss: 0.0066\n",
      "Epoch 98/100\n",
      "8/8 [==============================] - 0s 30ms/step - loss: 0.0056\n",
      "Epoch 99/100\n",
      "8/8 [==============================] - 0s 31ms/step - loss: 0.0056\n",
      "Epoch 100/100\n",
      "8/8 [==============================] - 0s 31ms/step - loss: 0.0094\n"
     ]
    }
   ],
   "source": [
    "model.fit(train_x, train_y, epochs=100, batch_size=10)\n",
    "model.save('covid.h5')"
   ]
  },
  {
   "cell_type": "code",
   "execution_count": 53,
   "metadata": {},
   "outputs": [],
   "source": [
    "# predection on last element of x_train\n",
    "x_test_1 = np.reshape(X_train[-1], (1, X_train[-1].shape[0], X_train[-1].shape[1]))"
   ]
  },
  {
   "cell_type": "code",
   "execution_count": 54,
   "metadata": {},
   "outputs": [
    {
     "data": {
      "text/plain": [
       "(1, 15, 1)"
      ]
     },
     "execution_count": 54,
     "metadata": {},
     "output_type": "execute_result"
    }
   ],
   "source": [
    "x_test_1.shape"
   ]
  },
  {
   "cell_type": "code",
   "execution_count": 55,
   "metadata": {},
   "outputs": [],
   "source": [
    "pred = model.predict(x_test_1)"
   ]
  },
  {
   "cell_type": "code",
   "execution_count": 56,
   "metadata": {},
   "outputs": [
    {
     "data": {
      "text/plain": [
       "array([[44790.504]], dtype=float32)"
      ]
     },
     "execution_count": 56,
     "metadata": {},
     "output_type": "execute_result"
    }
   ],
   "source": [
    "minmax.inverse_transform(pred)"
   ]
  },
  {
   "cell_type": "code",
   "execution_count": 57,
   "metadata": {},
   "outputs": [],
   "source": [
    "x_test_2 = np.reshape(X_train[-2], (1, X_train[-2].shape[0], X_train[-2].shape[1]))"
   ]
  },
  {
   "cell_type": "code",
   "execution_count": 58,
   "metadata": {},
   "outputs": [],
   "source": [
    "pred_2 = model.predict(x_test_2)"
   ]
  },
  {
   "cell_type": "code",
   "execution_count": 59,
   "metadata": {},
   "outputs": [
    {
     "data": {
      "text/plain": [
       "array([[43641.2]], dtype=float32)"
      ]
     },
     "execution_count": 59,
     "metadata": {},
     "output_type": "execute_result"
    }
   ],
   "source": [
    "minmax.inverse_transform(pred_2)"
   ]
  },
  {
   "cell_type": "code",
   "execution_count": 60,
   "metadata": {},
   "outputs": [
    {
     "data": {
      "text/plain": [
       "array([[47882.]])"
      ]
     },
     "execution_count": 60,
     "metadata": {},
     "output_type": "execute_result"
    }
   ],
   "source": [
    "minmax.inverse_transform(y_train[-1].reshape(1,-1))"
   ]
  },
  {
   "cell_type": "code",
   "execution_count": 61,
   "metadata": {},
   "outputs": [
    {
     "data": {
      "text/plain": [
       "array([[48036.]])"
      ]
     },
     "execution_count": 61,
     "metadata": {},
     "output_type": "execute_result"
    }
   ],
   "source": [
    "minmax.inverse_transform(y_train[-2].reshape(1,-1))"
   ]
  },
  {
   "cell_type": "code",
   "execution_count": 62,
   "metadata": {},
   "outputs": [],
   "source": [
    "predection = model.predict(test_x)"
   ]
  },
  {
   "cell_type": "code",
   "execution_count": 63,
   "metadata": {},
   "outputs": [],
   "source": [
    "import matplotlib.pyplot as plt\n"
   ]
  },
  {
   "cell_type": "code",
   "execution_count": 64,
   "metadata": {},
   "outputs": [
    {
     "data": {
      "image/png": "[encoded data removed]",
      "text/plain": [
       "<Figure size 1296x720 with 1 Axes>"
      ]
     },
     "metadata": {
      "needs_background": "light"
     },
     "output_type": "display_data"
    }
   ],
   "source": [
    "plt.figure(figsize=(18,10))\n",
    "plt.plot(minmax.inverse_transform(test_y.reshape(-1,1)))\n",
    "plt.plot(minmax.inverse_transform(predection.reshape(-1,1)), color= 'r')\n",
    "plt.show()"
   ]
  },
  {
   "cell_type": "code",
   "execution_count": 67,
   "metadata": {},
   "outputs": [
    {
     "data": {
      "image/png": "[encoded data removed]",
      "text/plain": [
       "<Figure size 432x288 with 1 Axes>"
      ]
     },
     "metadata": {
      "needs_background": "light"
     },
     "output_type": "display_data"
    }
   ],
   "source": [
    "plt.plot(predection)\n",
    "plt.plot(test_y)\n",
    "plt.show()"
   ]
  },
  {
   "cell_type": "code",
   "execution_count": 68,
   "metadata": {},
   "outputs": [],
   "source": [
    "pred_list = []"
   ]
  },
  {
   "cell_type": "code",
   "execution_count": 69,
   "metadata": {},
   "outputs": [],
   "source": [
    "pred_list.append(X_train[-1])"
   ]
  },
  {
   "cell_type": "code",
   "execution_count": 70,
   "metadata": {},
   "outputs": [],
   "source": [
    "pred_list = np.asarray(pred_list)"
   ]
  },
  {
   "cell_type": "code",
   "execution_count": 71,
   "metadata": {},
   "outputs": [
    {
     "data": {
      "text/plain": [
       "array([[[0.66259841],\n",
       "        [0.63064939],\n",
       "        [0.56437706],\n",
       "        [0.65168493],\n",
       "        [0.7021702 ],\n",
       "        [0.75786229],\n",
       "        [0.75994502],\n",
       "        [0.83854709],\n",
       "        [0.81638689],\n",
       "        [0.763444  ],\n",
       "        [0.75998667],\n",
       "        [0.80884742],\n",
       "        [0.91373349],\n",
       "        [0.94584913],\n",
       "        [1.        ]]])"
      ]
     },
     "execution_count": 71,
     "metadata": {},
     "output_type": "execute_result"
    }
   ],
   "source": [
    "pred_list"
   ]
  },
  {
   "cell_type": "code",
   "execution_count": 72,
   "metadata": {},
   "outputs": [],
   "source": [
    "# Next 10 days predection\n",
    "for i in range(10):\n",
    "    pred_data = pred_list[0,i:]\n",
    "    pred_data = pred_data.reshape(1,15,1)\n",
    "    pred = model.predict(pred_data)\n",
    "    pred_list = np.append(pred_list, pred)\n",
    "    pred_list = pred_list.reshape(1,pred_list.shape[0],1)"
   ]
  },
  {
   "cell_type": "code",
   "execution_count": 81,
   "metadata": {},
   "outputs": [
    {
     "data": {
      "text/plain": [
       "array([[[0.66259841],\n",
       "        [0.63064939],\n",
       "        [0.56437706],\n",
       "        [0.65168493],\n",
       "        [0.7021702 ],\n",
       "        [0.75786229],\n",
       "        [0.75994502],\n",
       "        [0.83854709],\n",
       "        [0.81638689],\n",
       "        [0.763444  ],\n",
       "        [0.75998667],\n",
       "        [0.80884742],\n",
       "        [0.91373349],\n",
       "        [0.94584913],\n",
       "        [1.        ],\n",
       "        [0.93240523],\n",
       "        [0.95580792],\n",
       "        [0.9820621 ],\n",
       "        [1.01144028],\n",
       "        [1.03676593],\n",
       "        [1.06017697],\n",
       "        [1.08180785],\n",
       "        [1.10402036],\n",
       "        [1.12380087],\n",
       "        [1.14533854]]])"
      ]
     },
     "execution_count": 81,
     "metadata": {},
     "output_type": "execute_result"
    }
   ],
   "source": [
    "pred_list"
   ]
  },
  {
   "cell_type": "code",
   "execution_count": 74,
   "metadata": {},
   "outputs": [
    {
     "data": {
      "text/plain": [
       "(1, 25, 1)"
      ]
     },
     "execution_count": 74,
     "metadata": {},
     "output_type": "execute_result"
    }
   ],
   "source": [
    "pred_list.shape"
   ]
  },
  {
   "cell_type": "code",
   "execution_count": 75,
   "metadata": {},
   "outputs": [
    {
     "data": {
      "image/png": "[encoded data removed]",
      "text/plain": [
       "<Figure size 432x288 with 1 Axes>"
      ]
     },
     "metadata": {
      "needs_background": "light"
     },
     "output_type": "display_data"
    }
   ],
   "source": [
    "plt.plot(minmax.inverse_transform(pred_list.reshape(-1,1)))\n",
    "plt.show()"
   ]
  },
  {
   "cell_type": "code",
   "execution_count": null,
   "metadata": {},
   "outputs": [],
   "source": []
  }
 ],
 "metadata": {
  "kernelspec": {
   "display_name": "Python 3",
   "language": "python",
   "name": "python3"
  },
  "language_info": {
   "codemirror_mode": {
    "name": "ipython",
    "version": 3
   },
   "file_extension": ".py",
   "mimetype": "text/x-python",
   "name": "python",
   "nbconvert_exporter": "python",
   "pygments_lexer": "ipython3",
   "version": "3.7.3"
  }
 },
 "nbformat": 4,
 "nbformat_minor": 2
}
